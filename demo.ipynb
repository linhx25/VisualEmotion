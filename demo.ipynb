{
 "cells": [
  {
   "cell_type": "code",
   "execution_count": 63,
   "metadata": {},
   "outputs": [],
   "source": [
    "import os\n",
    "import collections\n",
    "import math\n",
    "import shutil\n",
    "import pandas as pd\n",
    "import numpy as np\n",
    "import torch\n",
    "import torch.nn as nn\n",
    "import torchvision\n",
    "from typing import Callable\n",
    "import copy\n",
    "import json\n",
    "from tqdm import tqdm\n",
    "from PIL import Image, ImageFile\n",
    "from sklearn.metrics import confusion_matrix\n",
    "import seaborn as sns\n",
    "import matplotlib.pyplot as plt\n",
    "from torch.utils.tensorboard import SummaryWriter\n",
    "ImageFile.LOAD_TRUNCATED_IMAGES = True\n",
    "\n",
    "def set_seed(seed=42):\n",
    "    np.random.seed(seed)\n",
    "    torch.manual_seed(seed)\n",
    "    torch.cuda.manual_seed_all(seed)\n",
    "    \n",
    "\n",
    "data_dir = \"~/VisualEmotion/data\"\n",
    "device = torch.device(\"cuda:0\" if torch.cuda.is_available() else \"cpu\")\n",
    "# devices = [torch.device(f'cuda:{i}') for i in range(torch.cuda.device_count())]"
   ]
  },
  {
   "cell_type": "code",
   "execution_count": 5,
   "metadata": {},
   "outputs": [],
   "source": [
    "# Transform\n",
    "transform_train = torchvision.transforms.Compose([\n",
    "    torchvision.transforms.Resize(40),\n",
    "    torchvision.transforms.RandomResizedCrop(32, scale=(0.64, 1.0),ratio=(1.0, 1.0)),\n",
    "    torchvision.transforms.RandomHorizontalFlip(),\n",
    "    torchvision.transforms.ToTensor(),\n",
    "    torchvision.transforms.Normalize([0.4914, 0.4822, 0.4465],\n",
    "                                    [0.2023, 0.1994, 0.2010])])\n",
    "\n",
    "transform_test = torchvision.transforms.Compose([\n",
    "    torchvision.transforms.ToTensor(),\n",
    "    torchvision.transforms.Normalize([0.4914, 0.4822, 0.4465],\n",
    "                                    [0.2023, 0.1994, 0.2010])])"
   ]
  },
  {
   "cell_type": "code",
   "execution_count": 6,
   "metadata": {},
   "outputs": [],
   "source": [
    "# Sampler\n",
    "class ImbalancedDatasetSampler(torch.utils.data.sampler.Sampler):\n",
    "    \"\"\"Samples elements randomly from a given list of indices for imbalanced dataset\n",
    "    Arguments:\n",
    "        indices: a list of indices\n",
    "        num_samples: number of samples to draw\n",
    "        callback_get_label: a callback-like function which takes two arguments - dataset and index\n",
    "    \"\"\"\n",
    "\n",
    "    def __init__(self, dataset, indices: list = None, num_samples: int = None, callback_get_label: Callable = None):\n",
    "        # if indices is not provided, all elements in the dataset will be considered\n",
    "        self.indices = list(range(len(dataset))) if indices is None else indices\n",
    "\n",
    "        # define custom callback\n",
    "        self.callback_get_label = callback_get_label\n",
    "\n",
    "        # if num_samples is not provided, draw `len(indices)` samples in each iteration\n",
    "        self.num_samples = len(self.indices) if num_samples is None else num_samples\n",
    "\n",
    "        # distribution of classes in the dataset\n",
    "        df = pd.DataFrame()\n",
    "        df[\"label\"] = self._get_labels(dataset)\n",
    "        df.index = self.indices\n",
    "        df = df.sort_index()\n",
    "\n",
    "        label_to_count = df[\"label\"].value_counts()\n",
    "\n",
    "        weights = 1.0 / label_to_count[df[\"label\"]]\n",
    "        self.weights = torch.DoubleTensor(weights.to_list())\n",
    "\n",
    "    def _get_labels(self, dataset):\n",
    "        if self.callback_get_label:\n",
    "            return self.callback_get_label(dataset)\n",
    "        elif isinstance(dataset, torchvision.datasets.MNIST):\n",
    "            return dataset.train_labels.tolist()\n",
    "        elif isinstance(dataset, torchvision.datasets.ImageFolder):\n",
    "            return [x[1] for x in dataset.imgs]\n",
    "        elif isinstance(dataset, torchvision.datasets.DatasetFolder):\n",
    "            return dataset.samples[:][1]\n",
    "        elif isinstance(dataset, torch.utils.data.Subset):\n",
    "            return dataset.dataset.imgs[:][1]\n",
    "        elif isinstance(dataset, torch.utils.data.Dataset):\n",
    "            return dataset.get_labels()\n",
    "        else:\n",
    "            raise NotImplementedError\n",
    "\n",
    "    def __iter__(self):\n",
    "        return (self.indices[i] for i in torch.multinomial(self.weights, self.num_samples, replacement=True))\n",
    "\n",
    "    def __len__(self):\n",
    "        return self.num_samples\n",
    "    \n"
   ]
  },
  {
   "cell_type": "code",
   "execution_count": 7,
   "metadata": {},
   "outputs": [],
   "source": [
    "# dataset \n",
    "train_ds = torchvision.datasets.ImageFolder(data_dir + \"/images/train\", transform=transform_train)\n",
    "valid_ds = torchvision.datasets.ImageFolder(data_dir + \"/images/valid\", transform=transform_train)\n",
    "test_ds = torchvision.datasets.ImageFolder(data_dir + \"/images/test\", transform=transform_test)"
   ]
  },
  {
   "cell_type": "code",
   "execution_count": 8,
   "metadata": {},
   "outputs": [],
   "source": [
    "# dataloader\n",
    "batch_size=256\n",
    "train_loader = torch.utils.data.DataLoader(train_ds, batch_size=batch_size,\n",
    "    sampler=ImbalancedDatasetSampler(train_ds), drop_last=True, num_workers=0)\n",
    "\n",
    "valid_loader = torch.utils.data.DataLoader(valid_ds, batch_size=batch_size, \n",
    "    sampler=ImbalancedDatasetSampler(valid_ds), drop_last=True, num_workers=0)\n",
    "\n",
    "test_loader = torch.utils.data.DataLoader(test_ds, batch_size=batch_size, \n",
    "    sampler=ImbalancedDatasetSampler(test_ds), drop_last=False, num_workers=0)\n"
   ]
  },
  {
   "cell_type": "code",
   "execution_count": 9,
   "metadata": {},
   "outputs": [
    {
     "data": {
      "text/plain": [
       "{'anger': 0,\n",
       " 'disgust': 1,\n",
       " 'fear': 2,\n",
       " 'joy': 3,\n",
       " 'neutral': 4,\n",
       " 'sadness': 5,\n",
       " 'surprise': 6}"
      ]
     },
     "execution_count": 9,
     "metadata": {},
     "output_type": "execute_result"
    }
   ],
   "source": [
    "test_ds.class_to_idx"
   ]
  },
  {
   "cell_type": "code",
   "execution_count": 25,
   "metadata": {},
   "outputs": [],
   "source": [
    "# model setting\n",
    "model = torchvision.models.resnet18(pretrained=True)\n",
    "model.fc = nn.Linear(model.fc.in_features, 7)\n",
    "model.to(device)\n",
    "# model = nn.DataParallel(model, device_ids=devices).to(devices[0])\n",
    "\n",
    "# optimizer\n",
    "n_epochs, early_stop = 200, 30\n",
    "optimizer = torch.optim.SGD(model.parameters(), lr=0.03, momentum=0.9, weight_decay=5e-4)\n",
    "scheduler = torch.optim.lr_scheduler.StepLR(optimizer, step_size=n_epochs//5, gamma=0.9)\n",
    "\n",
    "# loss\n",
    "loss_fn = nn.CrossEntropyLoss()"
   ]
  },
  {
   "cell_type": "code",
   "execution_count": 26,
   "metadata": {},
   "outputs": [],
   "source": [
    "# train\n",
    "global_step = -1\n",
    "loss_log = []\n",
    "writer = SummaryWriter(log_dir=\"./log\")\n",
    "def train_epoch(epoch, model, optimizer, scheduler, data_loader, writer, args):\n",
    "\n",
    "    global global_step, loss_log\n",
    "\n",
    "    model.train()\n",
    "\n",
    "    for feat, label in tqdm(data_loader, total=len(data_loader)):\n",
    "        \n",
    "        feat, label = feat.to(device), label.to(device)\n",
    "\n",
    "        global_step += 1\n",
    "        optimizer.zero_grad()\n",
    "        \n",
    "        pred = model(feat)\n",
    "        loss = loss_fn(pred, label)\n",
    "        loss.backward()\n",
    "        \n",
    "        torch.nn.utils.clip_grad_value_(model.parameters(), 3.)\n",
    "        optimizer.step()\n",
    "        \n",
    "        if writer:\n",
    "            writer.add_scalar('Train/RunningLoss', loss.item(), global_step)\n",
    "        else:\n",
    "            loss_log.append(loss.item()) \n",
    "    scheduler.step()\n",
    "    \n",
    "    # save log\n",
    "    if writer:\n",
    "        for name, param in model.named_parameters():\n",
    "            writer.add_histogram(name, param, epoch)\n",
    "            if param.grad is not None:\n",
    "                writer.add_histogram(name+'.grad', param.grad, epoch)\n",
    "\n",
    "                \n",
    "def test_epoch(epoch, model, data_loader, writer, args, prefix='Test'):\n",
    "\n",
    "    model.eval()\n",
    "\n",
    "    losses = []\n",
    "    scores = []\n",
    "\n",
    "    for feat, label in tqdm(data_loader, desc=prefix, total=len(data_loader)):\n",
    "\n",
    "        feat, label=feat.to(device), label.to(device)\n",
    "        with torch.no_grad():\n",
    "            pred = model(feat)\n",
    "\n",
    "        loss = loss_fn(pred, label)\n",
    "        score = (pred.argmax(dim=1)==label).to(feat).mean()\n",
    "        \n",
    "        losses.append(loss.item())\n",
    "        scores.append(score.item())\n",
    "\n",
    "    losses = pd.Series(losses)\n",
    "    scores = pd.Series(scores) \n",
    "    \n",
    "    if writer:\n",
    "        writer.add_scalar(prefix+'/Loss/%s'%\"CE\", losses.mean(), epoch)\n",
    "        writer.add_scalar(prefix+'/Loss/std(%s)'%\"CE\", losses.std(), epoch)\n",
    "        writer.add_scalar(prefix+'/Metric/%s'%\"acc\", scores.mean(), epoch)\n",
    "        writer.add_scalar(prefix+'/Metric/std(%s)'%\"acc\", scores.std(), epoch)\n",
    "\n",
    "    return losses, scores\n",
    "\n",
    "\n",
    "def main():\n",
    "    global n_epochs, early_stop, model, optimizer, scheduler, writer, train_loader, valid_loader, test_loader\n",
    "    set_seed()\n",
    "    \n",
    "    best_score = {}\n",
    "    best_epoch = 0\n",
    "    stop_round = 0\n",
    "    best_param = copy.deepcopy(model.state_dict())\n",
    "\n",
    "    for epoch in range(n_epochs):\n",
    "        stop_round += 1\n",
    "        if stop_round > early_stop and early_stop >= 0:\n",
    "            print('early stop')\n",
    "            break\n",
    "\n",
    "        print('Epoch:', epoch)\n",
    "\n",
    "        print('training...')\n",
    "        train_epoch(epoch, model, optimizer, scheduler, train_loader, writer, args=None)\n",
    "\n",
    "        print('evaluating...')\n",
    "#         train_loss, train_score = test_epoch(\n",
    "#             epoch, model, train_loader, writer=None, args=None, prefix='Train')\n",
    "        valid_loss, valid_score = test_epoch(\n",
    "            epoch, model, valid_loader, writer, args=None, prefix='Valid')\n",
    "        test_loss, test_score = test_epoch(\n",
    "            epoch, model, test_loader, writer, args=None, prefix='Test')\n",
    "\n",
    "        print('Loss (%s): train %.6f, valid %.6f, test %.6f'%(\n",
    "            \"CE\", 0, valid_loss.mean(), test_loss.mean()))\n",
    "    \n",
    "        print('Metric (%s): train %.6f, valid %.6f, test %.6f'%(\n",
    "            \"Accuracy\", 0, valid_score.mean(), test_score.mean()))\n",
    "\n",
    "        metric = \"acc\" \n",
    "        best_valid_score = best_score.get('valid_'+ metric, -1)\n",
    "        if valid_score.mean() > best_valid_score:\n",
    "            print('\\tvalid metric (%s) updates from %.6f to %.6f'%(\n",
    "                metric, best_valid_score, valid_score.mean()))                \n",
    "            for name in ['valid', 'test']:\n",
    "                best_score[name+'_loss'] = eval(name+'_loss').mean()\n",
    "                best_score[name+'_'+metric] = eval(name+'_score').mean()\n",
    "            stop_round = 0\n",
    "            best_epoch = epoch    \n",
    "            best_param = copy.deepcopy(model.state_dict())\n",
    "            torch.save(best_param, f'./model/model.bin')\n",
    "    \n",
    "    \n",
    "    print('best score:', best_score, '@', best_epoch)\n",
    "    info = dict(\n",
    "        config={\"early_stop\":early_stop, \"n_epochs\":n_epochs},\n",
    "        best_epoch=best_epoch,\n",
    "        best_score=best_score,\n",
    "    )\n",
    "    with open('./model/info.json', 'w') as f:\n",
    "        json.dump(info, f, indent=4)\n",
    "    print('finished.')\n",
    "    \n"
   ]
  },
  {
   "cell_type": "code",
   "execution_count": 27,
   "metadata": {},
   "outputs": [
    {
     "name": "stdout",
     "output_type": "stream",
     "text": [
      "Epoch: 0\n",
      "training...\n"
     ]
    },
    {
     "name": "stderr",
     "output_type": "stream",
     "text": [
      "100%|██████████| 26/26 [01:32<00:00,  3.56s/it]\n"
     ]
    },
    {
     "name": "stdout",
     "output_type": "stream",
     "text": [
      "evaluating...\n"
     ]
    },
    {
     "name": "stderr",
     "output_type": "stream",
     "text": [
      "Valid:  12%|█▎        | 1/8 [00:03<00:27,  3.99s/it]/apps/anaconda3/lib/python3.9/site-packages/PIL/Image.py:975: UserWarning: Palette images with Transparency expressed in bytes should be converted to RGBA images\n",
      "  warnings.warn(\n",
      "Valid: 100%|██████████| 8/8 [00:25<00:00,  3.17s/it]\n",
      "Test: 100%|██████████| 9/9 [00:28<00:00,  3.14s/it]\n"
     ]
    },
    {
     "name": "stdout",
     "output_type": "stream",
     "text": [
      "Loss (CE): train 0.000000, valid 2.089884, test 2.074615\n",
      "Metric (Accuracy): train 0.000000, valid 0.291992, test 0.163106\n",
      "\tvalid metric (acc) updates from -1.000000 to 0.291992\n",
      "Epoch: 1\n",
      "training...\n"
     ]
    },
    {
     "name": "stderr",
     "output_type": "stream",
     "text": [
      "100%|██████████| 26/26 [01:21<00:00,  3.15s/it]\n"
     ]
    },
    {
     "name": "stdout",
     "output_type": "stream",
     "text": [
      "evaluating...\n"
     ]
    },
    {
     "name": "stderr",
     "output_type": "stream",
     "text": [
      "Valid: 100%|██████████| 8/8 [00:25<00:00,  3.19s/it]\n",
      "Test: 100%|██████████| 9/9 [00:30<00:00,  3.44s/it]\n"
     ]
    },
    {
     "name": "stdout",
     "output_type": "stream",
     "text": [
      "Loss (CE): train 0.000000, valid 2.103852, test 1.654434\n",
      "Metric (Accuracy): train 0.000000, valid 0.302734, test 0.320290\n",
      "\tvalid metric (acc) updates from 0.291992 to 0.302734\n",
      "Epoch: 2\n",
      "training...\n"
     ]
    },
    {
     "name": "stderr",
     "output_type": "stream",
     "text": [
      "100%|██████████| 26/26 [01:22<00:00,  3.18s/it]\n"
     ]
    },
    {
     "name": "stdout",
     "output_type": "stream",
     "text": [
      "evaluating...\n"
     ]
    },
    {
     "name": "stderr",
     "output_type": "stream",
     "text": [
      "Valid: 100%|██████████| 8/8 [00:24<00:00,  3.03s/it]\n",
      "Test: 100%|██████████| 9/9 [00:28<00:00,  3.12s/it]\n"
     ]
    },
    {
     "name": "stdout",
     "output_type": "stream",
     "text": [
      "Loss (CE): train 0.000000, valid 2.127089, test 1.628253\n",
      "Metric (Accuracy): train 0.000000, valid 0.281738, test 0.341955\n",
      "Epoch: 3\n",
      "training...\n"
     ]
    },
    {
     "name": "stderr",
     "output_type": "stream",
     "text": [
      "100%|██████████| 26/26 [01:21<00:00,  3.13s/it]\n"
     ]
    },
    {
     "name": "stdout",
     "output_type": "stream",
     "text": [
      "evaluating...\n"
     ]
    },
    {
     "name": "stderr",
     "output_type": "stream",
     "text": [
      "Valid: 100%|██████████| 8/8 [00:25<00:00,  3.24s/it]\n",
      "Test: 100%|██████████| 9/9 [00:24<00:00,  2.72s/it]\n"
     ]
    },
    {
     "name": "stdout",
     "output_type": "stream",
     "text": [
      "Loss (CE): train 0.000000, valid 2.265594, test 1.549700\n",
      "Metric (Accuracy): train 0.000000, valid 0.306641, test 0.358095\n",
      "\tvalid metric (acc) updates from 0.302734 to 0.306641\n",
      "Epoch: 4\n",
      "training...\n"
     ]
    },
    {
     "name": "stderr",
     "output_type": "stream",
     "text": [
      "100%|██████████| 26/26 [01:26<00:00,  3.31s/it]\n"
     ]
    },
    {
     "name": "stdout",
     "output_type": "stream",
     "text": [
      "evaluating...\n"
     ]
    },
    {
     "name": "stderr",
     "output_type": "stream",
     "text": [
      "Valid: 100%|██████████| 8/8 [00:29<00:00,  3.64s/it]\n",
      "Test: 100%|██████████| 9/9 [00:29<00:00,  3.28s/it]\n"
     ]
    },
    {
     "name": "stdout",
     "output_type": "stream",
     "text": [
      "Loss (CE): train 0.000000, valid 2.269836, test 1.959572\n",
      "Metric (Accuracy): train 0.000000, valid 0.290039, test 0.225040\n",
      "Epoch: 5\n",
      "training...\n"
     ]
    },
    {
     "name": "stderr",
     "output_type": "stream",
     "text": [
      "100%|██████████| 26/26 [01:22<00:00,  3.18s/it]\n"
     ]
    },
    {
     "name": "stdout",
     "output_type": "stream",
     "text": [
      "evaluating...\n"
     ]
    },
    {
     "name": "stderr",
     "output_type": "stream",
     "text": [
      "Valid: 100%|██████████| 8/8 [00:26<00:00,  3.30s/it]\n",
      "Test: 100%|██████████| 9/9 [00:26<00:00,  2.95s/it]\n"
     ]
    },
    {
     "name": "stdout",
     "output_type": "stream",
     "text": [
      "Loss (CE): train 0.000000, valid 2.238308, test 1.230097\n",
      "Metric (Accuracy): train 0.000000, valid 0.288574, test 0.543955\n",
      "Epoch: 6\n",
      "training...\n"
     ]
    },
    {
     "name": "stderr",
     "output_type": "stream",
     "text": [
      "100%|██████████| 26/26 [01:25<00:00,  3.30s/it]\n"
     ]
    },
    {
     "name": "stdout",
     "output_type": "stream",
     "text": [
      "evaluating...\n"
     ]
    },
    {
     "name": "stderr",
     "output_type": "stream",
     "text": [
      "Valid: 100%|██████████| 8/8 [00:23<00:00,  2.97s/it]\n",
      "Test: 100%|██████████| 9/9 [00:29<00:00,  3.29s/it]\n"
     ]
    },
    {
     "name": "stdout",
     "output_type": "stream",
     "text": [
      "Loss (CE): train 0.000000, valid 2.683826, test 1.684124\n",
      "Metric (Accuracy): train 0.000000, valid 0.280762, test 0.459231\n",
      "Epoch: 7\n",
      "training...\n"
     ]
    },
    {
     "name": "stderr",
     "output_type": "stream",
     "text": [
      "100%|██████████| 26/26 [01:23<00:00,  3.22s/it]\n"
     ]
    },
    {
     "name": "stdout",
     "output_type": "stream",
     "text": [
      "evaluating...\n"
     ]
    },
    {
     "name": "stderr",
     "output_type": "stream",
     "text": [
      "Valid: 100%|██████████| 8/8 [00:24<00:00,  3.12s/it]\n",
      "Test: 100%|██████████| 9/9 [00:25<00:00,  2.84s/it]\n"
     ]
    },
    {
     "name": "stdout",
     "output_type": "stream",
     "text": [
      "Loss (CE): train 0.000000, valid 2.426584, test 1.097928\n",
      "Metric (Accuracy): train 0.000000, valid 0.290039, test 0.581068\n",
      "Epoch: 8\n",
      "training...\n"
     ]
    },
    {
     "name": "stderr",
     "output_type": "stream",
     "text": [
      "100%|██████████| 26/26 [01:16<00:00,  2.95s/it]\n"
     ]
    },
    {
     "name": "stdout",
     "output_type": "stream",
     "text": [
      "evaluating...\n"
     ]
    },
    {
     "name": "stderr",
     "output_type": "stream",
     "text": [
      "Valid: 100%|██████████| 8/8 [00:23<00:00,  2.96s/it]\n",
      "Test: 100%|██████████| 9/9 [00:27<00:00,  3.11s/it]\n"
     ]
    },
    {
     "name": "stdout",
     "output_type": "stream",
     "text": [
      "Loss (CE): train 0.000000, valid 2.729154, test 1.145586\n",
      "Metric (Accuracy): train 0.000000, valid 0.289062, test 0.591344\n",
      "Epoch: 9\n",
      "training...\n"
     ]
    },
    {
     "name": "stderr",
     "output_type": "stream",
     "text": [
      "100%|██████████| 26/26 [01:23<00:00,  3.22s/it]\n"
     ]
    },
    {
     "name": "stdout",
     "output_type": "stream",
     "text": [
      "evaluating...\n"
     ]
    },
    {
     "name": "stderr",
     "output_type": "stream",
     "text": [
      "Valid: 100%|██████████| 8/8 [00:26<00:00,  3.32s/it]\n",
      "Test: 100%|██████████| 9/9 [00:26<00:00,  2.98s/it]\n"
     ]
    },
    {
     "name": "stdout",
     "output_type": "stream",
     "text": [
      "Loss (CE): train 0.000000, valid 2.556081, test 1.358865\n",
      "Metric (Accuracy): train 0.000000, valid 0.293457, test 0.497212\n",
      "Epoch: 10\n",
      "training...\n"
     ]
    },
    {
     "name": "stderr",
     "output_type": "stream",
     "text": [
      "100%|██████████| 26/26 [01:20<00:00,  3.11s/it]\n"
     ]
    },
    {
     "name": "stdout",
     "output_type": "stream",
     "text": [
      "evaluating...\n"
     ]
    },
    {
     "name": "stderr",
     "output_type": "stream",
     "text": [
      "Valid: 100%|██████████| 8/8 [00:24<00:00,  3.06s/it]\n",
      "Test: 100%|██████████| 9/9 [00:29<00:00,  3.27s/it]\n"
     ]
    },
    {
     "name": "stdout",
     "output_type": "stream",
     "text": [
      "Loss (CE): train 0.000000, valid 2.648356, test 1.333554\n",
      "Metric (Accuracy): train 0.000000, valid 0.279785, test 0.477784\n",
      "Epoch: 11\n",
      "training...\n"
     ]
    },
    {
     "name": "stderr",
     "output_type": "stream",
     "text": [
      "100%|██████████| 26/26 [01:21<00:00,  3.12s/it]\n"
     ]
    },
    {
     "name": "stdout",
     "output_type": "stream",
     "text": [
      "evaluating...\n"
     ]
    },
    {
     "name": "stderr",
     "output_type": "stream",
     "text": [
      "Valid: 100%|██████████| 8/8 [00:22<00:00,  2.82s/it]\n",
      "Test: 100%|██████████| 9/9 [00:26<00:00,  2.94s/it]\n"
     ]
    },
    {
     "name": "stdout",
     "output_type": "stream",
     "text": [
      "Loss (CE): train 0.000000, valid 2.748203, test 1.725339\n",
      "Metric (Accuracy): train 0.000000, valid 0.311523, test 0.425656\n",
      "\tvalid metric (acc) updates from 0.306641 to 0.311523\n",
      "Epoch: 12\n",
      "training...\n"
     ]
    },
    {
     "name": "stderr",
     "output_type": "stream",
     "text": [
      "100%|██████████| 26/26 [01:23<00:00,  3.20s/it]\n"
     ]
    },
    {
     "name": "stdout",
     "output_type": "stream",
     "text": [
      "evaluating...\n"
     ]
    },
    {
     "name": "stderr",
     "output_type": "stream",
     "text": [
      "Valid: 100%|██████████| 8/8 [00:24<00:00,  3.11s/it]\n",
      "Test: 100%|██████████| 9/9 [00:27<00:00,  3.04s/it]\n"
     ]
    },
    {
     "name": "stdout",
     "output_type": "stream",
     "text": [
      "Loss (CE): train 0.000000, valid 2.601501, test 1.012032\n",
      "Metric (Accuracy): train 0.000000, valid 0.312500, test 0.595346\n",
      "\tvalid metric (acc) updates from 0.311523 to 0.312500\n",
      "Epoch: 13\n",
      "training...\n"
     ]
    },
    {
     "name": "stderr",
     "output_type": "stream",
     "text": [
      "100%|██████████| 26/26 [01:25<00:00,  3.28s/it]\n"
     ]
    },
    {
     "name": "stdout",
     "output_type": "stream",
     "text": [
      "evaluating...\n"
     ]
    },
    {
     "name": "stderr",
     "output_type": "stream",
     "text": [
      "Valid: 100%|██████████| 8/8 [00:26<00:00,  3.30s/it]\n",
      "Test: 100%|██████████| 9/9 [00:28<00:00,  3.16s/it]\n"
     ]
    },
    {
     "name": "stdout",
     "output_type": "stream",
     "text": [
      "Loss (CE): train 0.000000, valid 2.780910, test 1.188124\n",
      "Metric (Accuracy): train 0.000000, valid 0.301270, test 0.557807\n",
      "Epoch: 14\n",
      "training...\n"
     ]
    },
    {
     "name": "stderr",
     "output_type": "stream",
     "text": [
      "100%|██████████| 26/26 [01:20<00:00,  3.10s/it]\n"
     ]
    },
    {
     "name": "stdout",
     "output_type": "stream",
     "text": [
      "evaluating...\n"
     ]
    },
    {
     "name": "stderr",
     "output_type": "stream",
     "text": [
      "Valid: 100%|██████████| 8/8 [00:26<00:00,  3.35s/it]\n",
      "Test: 100%|██████████| 9/9 [00:28<00:00,  3.17s/it]\n"
     ]
    },
    {
     "name": "stdout",
     "output_type": "stream",
     "text": [
      "Loss (CE): train 0.000000, valid 2.901765, test 0.998976\n",
      "Metric (Accuracy): train 0.000000, valid 0.305176, test 0.673817\n",
      "Epoch: 15\n",
      "training...\n"
     ]
    },
    {
     "name": "stderr",
     "output_type": "stream",
     "text": [
      "100%|██████████| 26/26 [01:22<00:00,  3.18s/it]\n"
     ]
    },
    {
     "name": "stdout",
     "output_type": "stream",
     "text": [
      "evaluating...\n"
     ]
    },
    {
     "name": "stderr",
     "output_type": "stream",
     "text": [
      "Valid: 100%|██████████| 8/8 [00:25<00:00,  3.20s/it]\n",
      "Test: 100%|██████████| 9/9 [00:25<00:00,  2.84s/it]\n"
     ]
    },
    {
     "name": "stdout",
     "output_type": "stream",
     "text": [
      "Loss (CE): train 0.000000, valid 2.795648, test 1.169337\n",
      "Metric (Accuracy): train 0.000000, valid 0.299805, test 0.570467\n",
      "Epoch: 16\n",
      "training...\n"
     ]
    },
    {
     "name": "stderr",
     "output_type": "stream",
     "text": [
      "100%|██████████| 26/26 [01:21<00:00,  3.13s/it]\n"
     ]
    },
    {
     "name": "stdout",
     "output_type": "stream",
     "text": [
      "evaluating...\n"
     ]
    },
    {
     "name": "stderr",
     "output_type": "stream",
     "text": [
      "Valid: 100%|██████████| 8/8 [00:25<00:00,  3.23s/it]\n",
      "Test: 100%|██████████| 9/9 [00:29<00:00,  3.26s/it]\n"
     ]
    },
    {
     "name": "stdout",
     "output_type": "stream",
     "text": [
      "Loss (CE): train 0.000000, valid 2.848452, test 1.038703\n",
      "Metric (Accuracy): train 0.000000, valid 0.303223, test 0.621042\n",
      "Epoch: 17\n",
      "training...\n"
     ]
    },
    {
     "name": "stderr",
     "output_type": "stream",
     "text": [
      "100%|██████████| 26/26 [01:24<00:00,  3.25s/it]\n"
     ]
    },
    {
     "name": "stdout",
     "output_type": "stream",
     "text": [
      "evaluating...\n"
     ]
    },
    {
     "name": "stderr",
     "output_type": "stream",
     "text": [
      "Valid: 100%|██████████| 8/8 [00:26<00:00,  3.26s/it]\n",
      "Test: 100%|██████████| 9/9 [00:27<00:00,  3.03s/it]\n"
     ]
    },
    {
     "name": "stdout",
     "output_type": "stream",
     "text": [
      "Loss (CE): train 0.000000, valid 2.684447, test 0.821613\n",
      "Metric (Accuracy): train 0.000000, valid 0.301270, test 0.703552\n",
      "Epoch: 18\n",
      "training...\n"
     ]
    },
    {
     "name": "stderr",
     "output_type": "stream",
     "text": [
      "100%|██████████| 26/26 [01:24<00:00,  3.24s/it]\n"
     ]
    },
    {
     "name": "stdout",
     "output_type": "stream",
     "text": [
      "evaluating...\n"
     ]
    },
    {
     "name": "stderr",
     "output_type": "stream",
     "text": [
      "Valid: 100%|██████████| 8/8 [00:24<00:00,  3.01s/it]\n",
      "Test: 100%|██████████| 9/9 [00:26<00:00,  2.99s/it]\n"
     ]
    },
    {
     "name": "stdout",
     "output_type": "stream",
     "text": [
      "Loss (CE): train 0.000000, valid 2.705620, test 0.824682\n",
      "Metric (Accuracy): train 0.000000, valid 0.326660, test 0.729821\n",
      "\tvalid metric (acc) updates from 0.312500 to 0.326660\n",
      "Epoch: 19\n",
      "training...\n"
     ]
    },
    {
     "name": "stderr",
     "output_type": "stream",
     "text": [
      "100%|██████████| 26/26 [01:22<00:00,  3.17s/it]\n"
     ]
    },
    {
     "name": "stdout",
     "output_type": "stream",
     "text": [
      "evaluating...\n"
     ]
    },
    {
     "name": "stderr",
     "output_type": "stream",
     "text": [
      "Valid: 100%|██████████| 8/8 [00:23<00:00,  2.98s/it]\n",
      "Test: 100%|██████████| 9/9 [00:27<00:00,  3.08s/it]\n"
     ]
    },
    {
     "name": "stdout",
     "output_type": "stream",
     "text": [
      "Loss (CE): train 0.000000, valid 2.866890, test 0.804261\n",
      "Metric (Accuracy): train 0.000000, valid 0.323730, test 0.707208\n",
      "Epoch: 20\n",
      "training...\n"
     ]
    },
    {
     "name": "stderr",
     "output_type": "stream",
     "text": [
      "100%|██████████| 26/26 [01:24<00:00,  3.26s/it]\n"
     ]
    },
    {
     "name": "stdout",
     "output_type": "stream",
     "text": [
      "evaluating...\n"
     ]
    },
    {
     "name": "stderr",
     "output_type": "stream",
     "text": [
      "Valid: 100%|██████████| 8/8 [00:26<00:00,  3.32s/it]\n",
      "Test: 100%|██████████| 9/9 [00:28<00:00,  3.16s/it]\n"
     ]
    },
    {
     "name": "stdout",
     "output_type": "stream",
     "text": [
      "Loss (CE): train 0.000000, valid 3.078553, test 0.715049\n",
      "Metric (Accuracy): train 0.000000, valid 0.302246, test 0.739223\n",
      "Epoch: 21\n",
      "training...\n"
     ]
    },
    {
     "name": "stderr",
     "output_type": "stream",
     "text": [
      "100%|██████████| 26/26 [01:24<00:00,  3.26s/it]\n"
     ]
    },
    {
     "name": "stdout",
     "output_type": "stream",
     "text": [
      "evaluating...\n"
     ]
    },
    {
     "name": "stderr",
     "output_type": "stream",
     "text": [
      "Valid: 100%|██████████| 8/8 [00:23<00:00,  2.88s/it]\n",
      "Test: 100%|██████████| 9/9 [00:28<00:00,  3.22s/it]\n"
     ]
    },
    {
     "name": "stdout",
     "output_type": "stream",
     "text": [
      "Loss (CE): train 0.000000, valid 2.919491, test 0.817556\n",
      "Metric (Accuracy): train 0.000000, valid 0.303223, test 0.710967\n",
      "Epoch: 22\n",
      "training...\n"
     ]
    },
    {
     "name": "stderr",
     "output_type": "stream",
     "text": [
      "100%|██████████| 26/26 [01:21<00:00,  3.12s/it]\n"
     ]
    },
    {
     "name": "stdout",
     "output_type": "stream",
     "text": [
      "evaluating...\n"
     ]
    },
    {
     "name": "stderr",
     "output_type": "stream",
     "text": [
      "Valid: 100%|██████████| 8/8 [00:24<00:00,  3.00s/it]\n",
      "Test: 100%|██████████| 9/9 [00:29<00:00,  3.33s/it]\n"
     ]
    },
    {
     "name": "stdout",
     "output_type": "stream",
     "text": [
      "Loss (CE): train 0.000000, valid 2.772823, test 0.794011\n",
      "Metric (Accuracy): train 0.000000, valid 0.296387, test 0.717735\n",
      "Epoch: 23\n",
      "training...\n"
     ]
    },
    {
     "name": "stderr",
     "output_type": "stream",
     "text": [
      "100%|██████████| 26/26 [01:24<00:00,  3.26s/it]\n"
     ]
    },
    {
     "name": "stdout",
     "output_type": "stream",
     "text": [
      "evaluating...\n"
     ]
    },
    {
     "name": "stderr",
     "output_type": "stream",
     "text": [
      "Valid: 100%|██████████| 8/8 [00:27<00:00,  3.49s/it]\n",
      "Test: 100%|██████████| 9/9 [00:27<00:00,  3.03s/it]\n"
     ]
    },
    {
     "name": "stdout",
     "output_type": "stream",
     "text": [
      "Loss (CE): train 0.000000, valid 3.055040, test 0.629234\n",
      "Metric (Accuracy): train 0.000000, valid 0.307617, test 0.778285\n",
      "Epoch: 24\n",
      "training...\n"
     ]
    },
    {
     "name": "stderr",
     "output_type": "stream",
     "text": [
      "100%|██████████| 26/26 [01:24<00:00,  3.25s/it]\n"
     ]
    },
    {
     "name": "stdout",
     "output_type": "stream",
     "text": [
      "evaluating...\n"
     ]
    },
    {
     "name": "stderr",
     "output_type": "stream",
     "text": [
      "Valid: 100%|██████████| 8/8 [00:25<00:00,  3.21s/it]\n",
      "Test: 100%|██████████| 9/9 [00:25<00:00,  2.84s/it]\n"
     ]
    },
    {
     "name": "stdout",
     "output_type": "stream",
     "text": [
      "Loss (CE): train 0.000000, valid 3.113066, test 0.718642\n",
      "Metric (Accuracy): train 0.000000, valid 0.299316, test 0.760086\n",
      "Epoch: 25\n",
      "training...\n"
     ]
    },
    {
     "name": "stderr",
     "output_type": "stream",
     "text": [
      "100%|██████████| 26/26 [01:24<00:00,  3.25s/it]\n"
     ]
    },
    {
     "name": "stdout",
     "output_type": "stream",
     "text": [
      "evaluating...\n"
     ]
    },
    {
     "name": "stderr",
     "output_type": "stream",
     "text": [
      "Valid: 100%|██████████| 8/8 [00:27<00:00,  3.40s/it]\n",
      "Test: 100%|██████████| 9/9 [00:29<00:00,  3.23s/it]\n"
     ]
    },
    {
     "name": "stdout",
     "output_type": "stream",
     "text": [
      "Loss (CE): train 0.000000, valid 3.174257, test 0.571366\n",
      "Metric (Accuracy): train 0.000000, valid 0.290039, test 0.805416\n",
      "Epoch: 26\n",
      "training...\n"
     ]
    },
    {
     "name": "stderr",
     "output_type": "stream",
     "text": [
      "100%|██████████| 26/26 [01:35<00:00,  3.68s/it]\n"
     ]
    },
    {
     "name": "stdout",
     "output_type": "stream",
     "text": [
      "evaluating...\n"
     ]
    },
    {
     "name": "stderr",
     "output_type": "stream",
     "text": [
      "Valid: 100%|██████████| 8/8 [00:22<00:00,  2.86s/it]\n",
      "Test: 100%|██████████| 9/9 [00:25<00:00,  2.80s/it]\n"
     ]
    },
    {
     "name": "stdout",
     "output_type": "stream",
     "text": [
      "Loss (CE): train 0.000000, valid 3.226217, test 0.608891\n",
      "Metric (Accuracy): train 0.000000, valid 0.305176, test 0.790151\n",
      "Epoch: 27\n",
      "training...\n"
     ]
    },
    {
     "name": "stderr",
     "output_type": "stream",
     "text": [
      "100%|██████████| 26/26 [01:25<00:00,  3.28s/it]\n"
     ]
    },
    {
     "name": "stdout",
     "output_type": "stream",
     "text": [
      "evaluating...\n"
     ]
    },
    {
     "name": "stderr",
     "output_type": "stream",
     "text": [
      "Valid: 100%|██████████| 8/8 [00:24<00:00,  3.12s/it]\n",
      "Test: 100%|██████████| 9/9 [00:27<00:00,  3.01s/it]\n"
     ]
    },
    {
     "name": "stdout",
     "output_type": "stream",
     "text": [
      "Loss (CE): train 0.000000, valid 3.100685, test 0.664489\n",
      "Metric (Accuracy): train 0.000000, valid 0.307617, test 0.766751\n",
      "Epoch: 28\n",
      "training...\n"
     ]
    },
    {
     "name": "stderr",
     "output_type": "stream",
     "text": [
      "100%|██████████| 26/26 [01:22<00:00,  3.18s/it]\n"
     ]
    },
    {
     "name": "stdout",
     "output_type": "stream",
     "text": [
      "evaluating...\n"
     ]
    },
    {
     "name": "stderr",
     "output_type": "stream",
     "text": [
      "Valid: 100%|██████████| 8/8 [00:24<00:00,  3.10s/it]\n",
      "Test: 100%|██████████| 9/9 [00:27<00:00,  3.10s/it]\n"
     ]
    },
    {
     "name": "stdout",
     "output_type": "stream",
     "text": [
      "Loss (CE): train 0.000000, valid 3.114726, test 0.454151\n",
      "Metric (Accuracy): train 0.000000, valid 0.309082, test 0.850312\n",
      "Epoch: 29\n",
      "training...\n"
     ]
    },
    {
     "name": "stderr",
     "output_type": "stream",
     "text": [
      "100%|██████████| 26/26 [01:20<00:00,  3.10s/it]\n"
     ]
    },
    {
     "name": "stdout",
     "output_type": "stream",
     "text": [
      "evaluating...\n"
     ]
    },
    {
     "name": "stderr",
     "output_type": "stream",
     "text": [
      "Valid: 100%|██████████| 8/8 [00:26<00:00,  3.26s/it]\n",
      "Test: 100%|██████████| 9/9 [00:27<00:00,  3.06s/it]\n"
     ]
    },
    {
     "name": "stdout",
     "output_type": "stream",
     "text": [
      "Loss (CE): train 0.000000, valid 3.271653, test 0.602380\n",
      "Metric (Accuracy): train 0.000000, valid 0.296387, test 0.786900\n",
      "Epoch: 30\n",
      "training...\n"
     ]
    },
    {
     "name": "stderr",
     "output_type": "stream",
     "text": [
      "100%|██████████| 26/26 [01:20<00:00,  3.11s/it]\n"
     ]
    },
    {
     "name": "stdout",
     "output_type": "stream",
     "text": [
      "evaluating...\n"
     ]
    },
    {
     "name": "stderr",
     "output_type": "stream",
     "text": [
      "Valid: 100%|██████████| 8/8 [00:28<00:00,  3.60s/it]\n",
      "Test: 100%|██████████| 9/9 [00:27<00:00,  3.10s/it]\n"
     ]
    },
    {
     "name": "stdout",
     "output_type": "stream",
     "text": [
      "Loss (CE): train 0.000000, valid 3.135888, test 0.480122\n",
      "Metric (Accuracy): train 0.000000, valid 0.300781, test 0.827088\n",
      "Epoch: 31\n",
      "training...\n"
     ]
    },
    {
     "name": "stderr",
     "output_type": "stream",
     "text": [
      "100%|██████████| 26/26 [01:22<00:00,  3.19s/it]\n"
     ]
    },
    {
     "name": "stdout",
     "output_type": "stream",
     "text": [
      "evaluating...\n"
     ]
    },
    {
     "name": "stderr",
     "output_type": "stream",
     "text": [
      "Valid: 100%|██████████| 8/8 [00:26<00:00,  3.31s/it]\n",
      "Test: 100%|██████████| 9/9 [00:27<00:00,  3.09s/it]\n"
     ]
    },
    {
     "name": "stdout",
     "output_type": "stream",
     "text": [
      "Loss (CE): train 0.000000, valid 3.122587, test 0.419493\n",
      "Metric (Accuracy): train 0.000000, valid 0.328125, test 0.852048\n",
      "\tvalid metric (acc) updates from 0.326660 to 0.328125\n",
      "Epoch: 32\n",
      "training...\n"
     ]
    },
    {
     "name": "stderr",
     "output_type": "stream",
     "text": [
      "100%|██████████| 26/26 [01:26<00:00,  3.32s/it]\n"
     ]
    },
    {
     "name": "stdout",
     "output_type": "stream",
     "text": [
      "evaluating...\n"
     ]
    },
    {
     "name": "stderr",
     "output_type": "stream",
     "text": [
      "Valid: 100%|██████████| 8/8 [00:22<00:00,  2.77s/it]\n",
      "Test: 100%|██████████| 9/9 [00:25<00:00,  2.78s/it]\n"
     ]
    },
    {
     "name": "stdout",
     "output_type": "stream",
     "text": [
      "Loss (CE): train 0.000000, valid 3.401665, test 0.493571\n",
      "Metric (Accuracy): train 0.000000, valid 0.300781, test 0.833812\n",
      "Epoch: 33\n",
      "training...\n"
     ]
    },
    {
     "name": "stderr",
     "output_type": "stream",
     "text": [
      "100%|██████████| 26/26 [01:23<00:00,  3.19s/it]\n"
     ]
    },
    {
     "name": "stdout",
     "output_type": "stream",
     "text": [
      "evaluating...\n"
     ]
    },
    {
     "name": "stderr",
     "output_type": "stream",
     "text": [
      "Valid: 100%|██████████| 8/8 [00:26<00:00,  3.37s/it]\n",
      "Test: 100%|██████████| 9/9 [00:29<00:00,  3.24s/it]\n"
     ]
    },
    {
     "name": "stdout",
     "output_type": "stream",
     "text": [
      "Loss (CE): train 0.000000, valid 3.333961, test 0.415118\n",
      "Metric (Accuracy): train 0.000000, valid 0.304199, test 0.859493\n",
      "Epoch: 34\n",
      "training...\n"
     ]
    },
    {
     "name": "stderr",
     "output_type": "stream",
     "text": [
      "100%|██████████| 26/26 [01:24<00:00,  3.24s/it]\n"
     ]
    },
    {
     "name": "stdout",
     "output_type": "stream",
     "text": [
      "evaluating...\n"
     ]
    },
    {
     "name": "stderr",
     "output_type": "stream",
     "text": [
      "Valid: 100%|██████████| 8/8 [00:23<00:00,  2.97s/it]\n",
      "Test: 100%|██████████| 9/9 [00:28<00:00,  3.19s/it]\n"
     ]
    },
    {
     "name": "stdout",
     "output_type": "stream",
     "text": [
      "Loss (CE): train 0.000000, valid 3.563778, test 0.362110\n",
      "Metric (Accuracy): train 0.000000, valid 0.293945, test 0.873897\n",
      "Epoch: 35\n",
      "training...\n"
     ]
    },
    {
     "name": "stderr",
     "output_type": "stream",
     "text": [
      "100%|██████████| 26/26 [01:24<00:00,  3.24s/it]\n"
     ]
    },
    {
     "name": "stdout",
     "output_type": "stream",
     "text": [
      "evaluating...\n"
     ]
    },
    {
     "name": "stderr",
     "output_type": "stream",
     "text": [
      "Valid: 100%|██████████| 8/8 [00:25<00:00,  3.22s/it]\n",
      "Test: 100%|██████████| 9/9 [00:28<00:00,  3.22s/it]\n"
     ]
    },
    {
     "name": "stdout",
     "output_type": "stream",
     "text": [
      "Loss (CE): train 0.000000, valid 3.219357, test 0.380781\n",
      "Metric (Accuracy): train 0.000000, valid 0.311523, test 0.871395\n",
      "Epoch: 36\n",
      "training...\n"
     ]
    },
    {
     "name": "stderr",
     "output_type": "stream",
     "text": [
      "100%|██████████| 26/26 [01:23<00:00,  3.21s/it]\n"
     ]
    },
    {
     "name": "stdout",
     "output_type": "stream",
     "text": [
      "evaluating...\n"
     ]
    },
    {
     "name": "stderr",
     "output_type": "stream",
     "text": [
      "Valid: 100%|██████████| 8/8 [00:25<00:00,  3.20s/it]\n",
      "Test: 100%|██████████| 9/9 [00:27<00:00,  3.02s/it]\n"
     ]
    },
    {
     "name": "stdout",
     "output_type": "stream",
     "text": [
      "Loss (CE): train 0.000000, valid 3.516945, test 0.380437\n",
      "Metric (Accuracy): train 0.000000, valid 0.305176, test 0.866805\n",
      "Epoch: 37\n",
      "training...\n"
     ]
    },
    {
     "name": "stderr",
     "output_type": "stream",
     "text": [
      "100%|██████████| 26/26 [01:24<00:00,  3.23s/it]\n"
     ]
    },
    {
     "name": "stdout",
     "output_type": "stream",
     "text": [
      "evaluating...\n"
     ]
    },
    {
     "name": "stderr",
     "output_type": "stream",
     "text": [
      "Valid: 100%|██████████| 8/8 [00:24<00:00,  3.09s/it]\n",
      "Test: 100%|██████████| 9/9 [00:28<00:00,  3.13s/it]\n"
     ]
    },
    {
     "name": "stdout",
     "output_type": "stream",
     "text": [
      "Loss (CE): train 0.000000, valid 3.480056, test 0.484171\n",
      "Metric (Accuracy): train 0.000000, valid 0.323242, test 0.829618\n",
      "Epoch: 38\n",
      "training...\n"
     ]
    },
    {
     "name": "stderr",
     "output_type": "stream",
     "text": [
      "100%|██████████| 26/26 [01:21<00:00,  3.12s/it]\n"
     ]
    },
    {
     "name": "stdout",
     "output_type": "stream",
     "text": [
      "evaluating...\n"
     ]
    },
    {
     "name": "stderr",
     "output_type": "stream",
     "text": [
      "Valid: 100%|██████████| 8/8 [00:24<00:00,  3.00s/it]\n",
      "Test: 100%|██████████| 9/9 [00:28<00:00,  3.17s/it]\n"
     ]
    },
    {
     "name": "stdout",
     "output_type": "stream",
     "text": [
      "Loss (CE): train 0.000000, valid 3.444410, test 0.354736\n",
      "Metric (Accuracy): train 0.000000, valid 0.312988, test 0.878384\n",
      "Epoch: 39\n",
      "training...\n"
     ]
    },
    {
     "name": "stderr",
     "output_type": "stream",
     "text": [
      "100%|██████████| 26/26 [01:23<00:00,  3.22s/it]\n"
     ]
    },
    {
     "name": "stdout",
     "output_type": "stream",
     "text": [
      "evaluating...\n"
     ]
    },
    {
     "name": "stderr",
     "output_type": "stream",
     "text": [
      "Valid: 100%|██████████| 8/8 [00:26<00:00,  3.26s/it]\n",
      "Test: 100%|██████████| 9/9 [00:28<00:00,  3.17s/it]\n"
     ]
    },
    {
     "name": "stdout",
     "output_type": "stream",
     "text": [
      "Loss (CE): train 0.000000, valid 3.171389, test 0.605603\n",
      "Metric (Accuracy): train 0.000000, valid 0.339355, test 0.793440\n",
      "\tvalid metric (acc) updates from 0.328125 to 0.339355\n",
      "Epoch: 40\n",
      "training...\n"
     ]
    },
    {
     "name": "stderr",
     "output_type": "stream",
     "text": [
      "100%|██████████| 26/26 [01:24<00:00,  3.25s/it]\n"
     ]
    },
    {
     "name": "stdout",
     "output_type": "stream",
     "text": [
      "evaluating...\n"
     ]
    },
    {
     "name": "stderr",
     "output_type": "stream",
     "text": [
      "Valid: 100%|██████████| 8/8 [00:27<00:00,  3.45s/it]\n",
      "Test: 100%|██████████| 9/9 [00:27<00:00,  3.05s/it]\n"
     ]
    },
    {
     "name": "stdout",
     "output_type": "stream",
     "text": [
      "Loss (CE): train 0.000000, valid 3.577831, test 0.322217\n",
      "Metric (Accuracy): train 0.000000, valid 0.313477, test 0.892199\n",
      "Epoch: 41\n",
      "training...\n"
     ]
    },
    {
     "name": "stderr",
     "output_type": "stream",
     "text": [
      "100%|██████████| 26/26 [01:25<00:00,  3.29s/it]\n"
     ]
    },
    {
     "name": "stdout",
     "output_type": "stream",
     "text": [
      "evaluating...\n"
     ]
    },
    {
     "name": "stderr",
     "output_type": "stream",
     "text": [
      "Valid: 100%|██████████| 8/8 [00:23<00:00,  2.94s/it]\n",
      "Test: 100%|██████████| 9/9 [00:27<00:00,  3.05s/it]\n"
     ]
    },
    {
     "name": "stdout",
     "output_type": "stream",
     "text": [
      "Loss (CE): train 0.000000, valid 3.867774, test 0.367921\n",
      "Metric (Accuracy): train 0.000000, valid 0.292480, test 0.869299\n",
      "Epoch: 42\n",
      "training...\n"
     ]
    },
    {
     "name": "stderr",
     "output_type": "stream",
     "text": [
      "100%|██████████| 26/26 [01:22<00:00,  3.19s/it]\n"
     ]
    },
    {
     "name": "stdout",
     "output_type": "stream",
     "text": [
      "evaluating...\n"
     ]
    },
    {
     "name": "stderr",
     "output_type": "stream",
     "text": [
      "Valid: 100%|██████████| 8/8 [00:27<00:00,  3.42s/it]\n",
      "Test: 100%|██████████| 9/9 [00:24<00:00,  2.73s/it]\n"
     ]
    },
    {
     "name": "stdout",
     "output_type": "stream",
     "text": [
      "Loss (CE): train 0.000000, valid 3.366423, test 0.250280\n",
      "Metric (Accuracy): train 0.000000, valid 0.322266, test 0.917343\n",
      "Epoch: 43\n",
      "training...\n"
     ]
    },
    {
     "name": "stderr",
     "output_type": "stream",
     "text": [
      "100%|██████████| 26/26 [01:23<00:00,  3.22s/it]\n"
     ]
    },
    {
     "name": "stdout",
     "output_type": "stream",
     "text": [
      "evaluating...\n"
     ]
    },
    {
     "name": "stderr",
     "output_type": "stream",
     "text": [
      "Valid: 100%|██████████| 8/8 [00:24<00:00,  3.10s/it]\n",
      "Test: 100%|██████████| 9/9 [00:25<00:00,  2.82s/it]\n"
     ]
    },
    {
     "name": "stdout",
     "output_type": "stream",
     "text": [
      "Loss (CE): train 0.000000, valid 3.461673, test 0.284453\n",
      "Metric (Accuracy): train 0.000000, valid 0.324219, test 0.897805\n",
      "Epoch: 44\n",
      "training...\n"
     ]
    },
    {
     "name": "stderr",
     "output_type": "stream",
     "text": [
      "100%|██████████| 26/26 [01:23<00:00,  3.21s/it]\n"
     ]
    },
    {
     "name": "stdout",
     "output_type": "stream",
     "text": [
      "evaluating...\n"
     ]
    },
    {
     "name": "stderr",
     "output_type": "stream",
     "text": [
      "Valid: 100%|██████████| 8/8 [00:24<00:00,  3.02s/it]\n",
      "Test: 100%|██████████| 9/9 [00:29<00:00,  3.23s/it]\n"
     ]
    },
    {
     "name": "stdout",
     "output_type": "stream",
     "text": [
      "Loss (CE): train 0.000000, valid 3.437052, test 0.281643\n",
      "Metric (Accuracy): train 0.000000, valid 0.329102, test 0.900519\n",
      "Epoch: 45\n",
      "training...\n"
     ]
    },
    {
     "name": "stderr",
     "output_type": "stream",
     "text": [
      "100%|██████████| 26/26 [01:24<00:00,  3.27s/it]\n"
     ]
    },
    {
     "name": "stdout",
     "output_type": "stream",
     "text": [
      "evaluating...\n"
     ]
    },
    {
     "name": "stderr",
     "output_type": "stream",
     "text": [
      "Valid: 100%|██████████| 8/8 [00:26<00:00,  3.27s/it]\n",
      "Test: 100%|██████████| 9/9 [00:26<00:00,  2.96s/it]\n"
     ]
    },
    {
     "name": "stdout",
     "output_type": "stream",
     "text": [
      "Loss (CE): train 0.000000, valid 3.732123, test 0.299925\n",
      "Metric (Accuracy): train 0.000000, valid 0.309570, test 0.889345\n",
      "Epoch: 46\n",
      "training...\n"
     ]
    },
    {
     "name": "stderr",
     "output_type": "stream",
     "text": [
      "100%|██████████| 26/26 [01:23<00:00,  3.21s/it]\n"
     ]
    },
    {
     "name": "stdout",
     "output_type": "stream",
     "text": [
      "evaluating...\n"
     ]
    },
    {
     "name": "stderr",
     "output_type": "stream",
     "text": [
      "Valid: 100%|██████████| 8/8 [00:24<00:00,  3.10s/it]\n",
      "Test: 100%|██████████| 9/9 [00:29<00:00,  3.25s/it]\n"
     ]
    },
    {
     "name": "stdout",
     "output_type": "stream",
     "text": [
      "Loss (CE): train 0.000000, valid 3.508544, test 0.343958\n",
      "Metric (Accuracy): train 0.000000, valid 0.326660, test 0.884137\n",
      "Epoch: 47\n",
      "training...\n"
     ]
    },
    {
     "name": "stderr",
     "output_type": "stream",
     "text": [
      "100%|██████████| 26/26 [01:21<00:00,  3.13s/it]\n"
     ]
    },
    {
     "name": "stdout",
     "output_type": "stream",
     "text": [
      "evaluating...\n"
     ]
    },
    {
     "name": "stderr",
     "output_type": "stream",
     "text": [
      "Valid: 100%|██████████| 8/8 [00:24<00:00,  3.05s/it]\n",
      "Test: 100%|██████████| 9/9 [00:26<00:00,  2.90s/it]\n"
     ]
    },
    {
     "name": "stdout",
     "output_type": "stream",
     "text": [
      "Loss (CE): train 0.000000, valid 3.768224, test 0.391150\n",
      "Metric (Accuracy): train 0.000000, valid 0.318359, test 0.871616\n",
      "Epoch: 48\n",
      "training...\n"
     ]
    },
    {
     "name": "stderr",
     "output_type": "stream",
     "text": [
      "100%|██████████| 26/26 [01:23<00:00,  3.22s/it]\n"
     ]
    },
    {
     "name": "stdout",
     "output_type": "stream",
     "text": [
      "evaluating...\n"
     ]
    },
    {
     "name": "stderr",
     "output_type": "stream",
     "text": [
      "Valid: 100%|██████████| 8/8 [00:24<00:00,  3.01s/it]\n",
      "Test: 100%|██████████| 9/9 [00:28<00:00,  3.20s/it]\n"
     ]
    },
    {
     "name": "stdout",
     "output_type": "stream",
     "text": [
      "Loss (CE): train 0.000000, valid 3.677689, test 0.260074\n",
      "Metric (Accuracy): train 0.000000, valid 0.313477, test 0.912209\n",
      "Epoch: 49\n",
      "training...\n"
     ]
    },
    {
     "name": "stderr",
     "output_type": "stream",
     "text": [
      "100%|██████████| 26/26 [01:23<00:00,  3.20s/it]\n"
     ]
    },
    {
     "name": "stdout",
     "output_type": "stream",
     "text": [
      "evaluating...\n"
     ]
    },
    {
     "name": "stderr",
     "output_type": "stream",
     "text": [
      "Valid: 100%|██████████| 8/8 [00:25<00:00,  3.14s/it]\n",
      "Test: 100%|██████████| 9/9 [00:29<00:00,  3.27s/it]\n"
     ]
    },
    {
     "name": "stdout",
     "output_type": "stream",
     "text": [
      "Loss (CE): train 0.000000, valid 3.638078, test 0.259508\n",
      "Metric (Accuracy): train 0.000000, valid 0.305664, test 0.908950\n",
      "Epoch: 50\n",
      "training...\n"
     ]
    },
    {
     "name": "stderr",
     "output_type": "stream",
     "text": [
      "100%|██████████| 26/26 [01:24<00:00,  3.27s/it]\n"
     ]
    },
    {
     "name": "stdout",
     "output_type": "stream",
     "text": [
      "evaluating...\n"
     ]
    },
    {
     "name": "stderr",
     "output_type": "stream",
     "text": [
      "Valid: 100%|██████████| 8/8 [00:23<00:00,  2.96s/it]\n",
      "Test: 100%|██████████| 9/9 [00:27<00:00,  3.09s/it]\n"
     ]
    },
    {
     "name": "stdout",
     "output_type": "stream",
     "text": [
      "Loss (CE): train 0.000000, valid 3.847278, test 0.253863\n",
      "Metric (Accuracy): train 0.000000, valid 0.300781, test 0.914018\n",
      "Epoch: 51\n",
      "training...\n"
     ]
    },
    {
     "name": "stderr",
     "output_type": "stream",
     "text": [
      "100%|██████████| 26/26 [01:22<00:00,  3.18s/it]\n"
     ]
    },
    {
     "name": "stdout",
     "output_type": "stream",
     "text": [
      "evaluating...\n"
     ]
    },
    {
     "name": "stderr",
     "output_type": "stream",
     "text": [
      "Valid: 100%|██████████| 8/8 [00:25<00:00,  3.13s/it]\n",
      "Test: 100%|██████████| 9/9 [00:29<00:00,  3.26s/it]\n"
     ]
    },
    {
     "name": "stdout",
     "output_type": "stream",
     "text": [
      "Loss (CE): train 0.000000, valid 3.668670, test 0.266281\n",
      "Metric (Accuracy): train 0.000000, valid 0.295898, test 0.908876\n",
      "Epoch: 52\n",
      "training...\n"
     ]
    },
    {
     "name": "stderr",
     "output_type": "stream",
     "text": [
      "100%|██████████| 26/26 [01:35<00:00,  3.68s/it]\n"
     ]
    },
    {
     "name": "stdout",
     "output_type": "stream",
     "text": [
      "evaluating...\n"
     ]
    },
    {
     "name": "stderr",
     "output_type": "stream",
     "text": [
      "Valid: 100%|██████████| 8/8 [00:26<00:00,  3.37s/it]\n",
      "Test: 100%|██████████| 9/9 [00:29<00:00,  3.27s/it]\n"
     ]
    },
    {
     "name": "stdout",
     "output_type": "stream",
     "text": [
      "Loss (CE): train 0.000000, valid 3.690634, test 0.295706\n",
      "Metric (Accuracy): train 0.000000, valid 0.309082, test 0.906706\n",
      "Epoch: 53\n",
      "training...\n"
     ]
    },
    {
     "name": "stderr",
     "output_type": "stream",
     "text": [
      "100%|██████████| 26/26 [01:23<00:00,  3.22s/it]\n"
     ]
    },
    {
     "name": "stdout",
     "output_type": "stream",
     "text": [
      "evaluating...\n"
     ]
    },
    {
     "name": "stderr",
     "output_type": "stream",
     "text": [
      "Valid: 100%|██████████| 8/8 [00:25<00:00,  3.21s/it]\n",
      "Test: 100%|██████████| 9/9 [00:29<00:00,  3.32s/it]\n"
     ]
    },
    {
     "name": "stdout",
     "output_type": "stream",
     "text": [
      "Loss (CE): train 0.000000, valid 3.736172, test 0.311560\n",
      "Metric (Accuracy): train 0.000000, valid 0.304688, test 0.895385\n",
      "Epoch: 54\n",
      "training...\n"
     ]
    },
    {
     "name": "stderr",
     "output_type": "stream",
     "text": [
      "100%|██████████| 26/26 [01:24<00:00,  3.25s/it]\n"
     ]
    },
    {
     "name": "stdout",
     "output_type": "stream",
     "text": [
      "evaluating...\n"
     ]
    },
    {
     "name": "stderr",
     "output_type": "stream",
     "text": [
      "Valid: 100%|██████████| 8/8 [00:26<00:00,  3.33s/it]\n",
      "Test: 100%|██████████| 9/9 [00:25<00:00,  2.86s/it]\n"
     ]
    },
    {
     "name": "stdout",
     "output_type": "stream",
     "text": [
      "Loss (CE): train 0.000000, valid 3.843753, test 0.320670\n",
      "Metric (Accuracy): train 0.000000, valid 0.287598, test 0.887212\n",
      "Epoch: 55\n",
      "training...\n"
     ]
    },
    {
     "name": "stderr",
     "output_type": "stream",
     "text": [
      "100%|██████████| 26/26 [01:20<00:00,  3.11s/it]\n"
     ]
    },
    {
     "name": "stdout",
     "output_type": "stream",
     "text": [
      "evaluating...\n"
     ]
    },
    {
     "name": "stderr",
     "output_type": "stream",
     "text": [
      "Valid: 100%|██████████| 8/8 [00:26<00:00,  3.29s/it]\n",
      "Test: 100%|██████████| 9/9 [00:27<00:00,  3.09s/it]\n"
     ]
    },
    {
     "name": "stdout",
     "output_type": "stream",
     "text": [
      "Loss (CE): train 0.000000, valid 3.840763, test 0.219627\n",
      "Metric (Accuracy): train 0.000000, valid 0.315918, test 0.922736\n",
      "Epoch: 56\n",
      "training...\n"
     ]
    },
    {
     "name": "stderr",
     "output_type": "stream",
     "text": [
      "100%|██████████| 26/26 [01:23<00:00,  3.23s/it]\n"
     ]
    },
    {
     "name": "stdout",
     "output_type": "stream",
     "text": [
      "evaluating...\n"
     ]
    },
    {
     "name": "stderr",
     "output_type": "stream",
     "text": [
      "Valid: 100%|██████████| 8/8 [00:26<00:00,  3.34s/it]\n",
      "Test: 100%|██████████| 9/9 [00:27<00:00,  3.07s/it]\n"
     ]
    },
    {
     "name": "stdout",
     "output_type": "stream",
     "text": [
      "Loss (CE): train 0.000000, valid 3.677507, test 0.245132\n",
      "Metric (Accuracy): train 0.000000, valid 0.298828, test 0.917630\n",
      "Epoch: 57\n",
      "training...\n"
     ]
    },
    {
     "name": "stderr",
     "output_type": "stream",
     "text": [
      "100%|██████████| 26/26 [01:23<00:00,  3.21s/it]\n"
     ]
    },
    {
     "name": "stdout",
     "output_type": "stream",
     "text": [
      "evaluating...\n"
     ]
    },
    {
     "name": "stderr",
     "output_type": "stream",
     "text": [
      "Valid: 100%|██████████| 8/8 [00:25<00:00,  3.21s/it]\n",
      "Test: 100%|██████████| 9/9 [00:27<00:00,  3.02s/it]\n"
     ]
    },
    {
     "name": "stdout",
     "output_type": "stream",
     "text": [
      "Loss (CE): train 0.000000, valid 3.744320, test 0.233076\n",
      "Metric (Accuracy): train 0.000000, valid 0.307617, test 0.916726\n",
      "Epoch: 58\n",
      "training...\n"
     ]
    },
    {
     "name": "stderr",
     "output_type": "stream",
     "text": [
      "100%|██████████| 26/26 [01:21<00:00,  3.13s/it]\n"
     ]
    },
    {
     "name": "stdout",
     "output_type": "stream",
     "text": [
      "evaluating...\n"
     ]
    },
    {
     "name": "stderr",
     "output_type": "stream",
     "text": [
      "Valid: 100%|██████████| 8/8 [00:24<00:00,  3.08s/it]\n",
      "Test: 100%|██████████| 9/9 [00:28<00:00,  3.17s/it]\n"
     ]
    },
    {
     "name": "stdout",
     "output_type": "stream",
     "text": [
      "Loss (CE): train 0.000000, valid 3.742148, test 0.200835\n",
      "Metric (Accuracy): train 0.000000, valid 0.290527, test 0.932424\n",
      "Epoch: 59\n",
      "training...\n"
     ]
    },
    {
     "name": "stderr",
     "output_type": "stream",
     "text": [
      "100%|██████████| 26/26 [01:19<00:00,  3.07s/it]\n"
     ]
    },
    {
     "name": "stdout",
     "output_type": "stream",
     "text": [
      "evaluating...\n"
     ]
    },
    {
     "name": "stderr",
     "output_type": "stream",
     "text": [
      "Valid: 100%|██████████| 8/8 [00:26<00:00,  3.36s/it]\n",
      "Test: 100%|██████████| 9/9 [00:28<00:00,  3.12s/it]\n"
     ]
    },
    {
     "name": "stdout",
     "output_type": "stream",
     "text": [
      "Loss (CE): train 0.000000, valid 3.761676, test 0.291619\n",
      "Metric (Accuracy): train 0.000000, valid 0.324219, test 0.902182\n",
      "Epoch: 60\n",
      "training...\n"
     ]
    },
    {
     "name": "stderr",
     "output_type": "stream",
     "text": [
      "100%|██████████| 26/26 [01:25<00:00,  3.28s/it]\n"
     ]
    },
    {
     "name": "stdout",
     "output_type": "stream",
     "text": [
      "evaluating...\n"
     ]
    },
    {
     "name": "stderr",
     "output_type": "stream",
     "text": [
      "Valid: 100%|██████████| 8/8 [00:25<00:00,  3.18s/it]\n",
      "Test: 100%|██████████| 9/9 [00:28<00:00,  3.16s/it]\n"
     ]
    },
    {
     "name": "stdout",
     "output_type": "stream",
     "text": [
      "Loss (CE): train 0.000000, valid 4.092717, test 0.220359\n",
      "Metric (Accuracy): train 0.000000, valid 0.301758, test 0.927613\n",
      "Epoch: 61\n",
      "training...\n"
     ]
    },
    {
     "name": "stderr",
     "output_type": "stream",
     "text": [
      "100%|██████████| 26/26 [01:22<00:00,  3.16s/it]\n"
     ]
    },
    {
     "name": "stdout",
     "output_type": "stream",
     "text": [
      "evaluating...\n"
     ]
    },
    {
     "name": "stderr",
     "output_type": "stream",
     "text": [
      "Valid: 100%|██████████| 8/8 [00:25<00:00,  3.21s/it]\n",
      "Test: 100%|██████████| 9/9 [00:28<00:00,  3.15s/it]\n"
     ]
    },
    {
     "name": "stdout",
     "output_type": "stream",
     "text": [
      "Loss (CE): train 0.000000, valid 4.004992, test 0.249919\n",
      "Metric (Accuracy): train 0.000000, valid 0.275391, test 0.914445\n",
      "Epoch: 62\n",
      "training...\n"
     ]
    },
    {
     "name": "stderr",
     "output_type": "stream",
     "text": [
      "100%|██████████| 26/26 [01:23<00:00,  3.22s/it]\n"
     ]
    },
    {
     "name": "stdout",
     "output_type": "stream",
     "text": [
      "evaluating...\n"
     ]
    },
    {
     "name": "stderr",
     "output_type": "stream",
     "text": [
      "Valid: 100%|██████████| 8/8 [00:24<00:00,  3.00s/it]\n",
      "Test: 100%|██████████| 9/9 [00:28<00:00,  3.21s/it]\n"
     ]
    },
    {
     "name": "stdout",
     "output_type": "stream",
     "text": [
      "Loss (CE): train 0.000000, valid 3.682913, test 0.292790\n",
      "Metric (Accuracy): train 0.000000, valid 0.333008, test 0.895561\n",
      "Epoch: 63\n",
      "training...\n"
     ]
    },
    {
     "name": "stderr",
     "output_type": "stream",
     "text": [
      "100%|██████████| 26/26 [01:20<00:00,  3.08s/it]\n"
     ]
    },
    {
     "name": "stdout",
     "output_type": "stream",
     "text": [
      "evaluating...\n"
     ]
    },
    {
     "name": "stderr",
     "output_type": "stream",
     "text": [
      "Valid: 100%|██████████| 8/8 [00:26<00:00,  3.32s/it]\n",
      "Test: 100%|██████████| 9/9 [00:25<00:00,  2.85s/it]\n"
     ]
    },
    {
     "name": "stdout",
     "output_type": "stream",
     "text": [
      "Loss (CE): train 0.000000, valid 3.856948, test 0.279499\n",
      "Metric (Accuracy): train 0.000000, valid 0.318359, test 0.899754\n",
      "Epoch: 64\n",
      "training...\n"
     ]
    },
    {
     "name": "stderr",
     "output_type": "stream",
     "text": [
      "100%|██████████| 26/26 [01:25<00:00,  3.29s/it]\n"
     ]
    },
    {
     "name": "stdout",
     "output_type": "stream",
     "text": [
      "evaluating...\n"
     ]
    },
    {
     "name": "stderr",
     "output_type": "stream",
     "text": [
      "Valid: 100%|██████████| 8/8 [00:26<00:00,  3.33s/it]\n",
      "Test: 100%|██████████| 9/9 [00:29<00:00,  3.28s/it]\n"
     ]
    },
    {
     "name": "stdout",
     "output_type": "stream",
     "text": [
      "Loss (CE): train 0.000000, valid 3.960223, test 0.153737\n",
      "Metric (Accuracy): train 0.000000, valid 0.313477, test 0.951242\n",
      "Epoch: 65\n",
      "training...\n"
     ]
    },
    {
     "name": "stderr",
     "output_type": "stream",
     "text": [
      "100%|██████████| 26/26 [01:22<00:00,  3.16s/it]\n"
     ]
    },
    {
     "name": "stdout",
     "output_type": "stream",
     "text": [
      "evaluating...\n"
     ]
    },
    {
     "name": "stderr",
     "output_type": "stream",
     "text": [
      "Valid: 100%|██████████| 8/8 [00:28<00:00,  3.50s/it]\n",
      "Test: 100%|██████████| 9/9 [00:27<00:00,  3.04s/it]\n"
     ]
    },
    {
     "name": "stdout",
     "output_type": "stream",
     "text": [
      "Loss (CE): train 0.000000, valid 3.810736, test 0.252058\n",
      "Metric (Accuracy): train 0.000000, valid 0.319336, test 0.911157\n",
      "Epoch: 66\n",
      "training...\n"
     ]
    },
    {
     "name": "stderr",
     "output_type": "stream",
     "text": [
      "100%|██████████| 26/26 [01:22<00:00,  3.17s/it]\n"
     ]
    },
    {
     "name": "stdout",
     "output_type": "stream",
     "text": [
      "evaluating...\n"
     ]
    },
    {
     "name": "stderr",
     "output_type": "stream",
     "text": [
      "Valid: 100%|██████████| 8/8 [00:23<00:00,  2.97s/it]\n",
      "Test: 100%|██████████| 9/9 [00:26<00:00,  3.00s/it]\n"
     ]
    },
    {
     "name": "stdout",
     "output_type": "stream",
     "text": [
      "Loss (CE): train 0.000000, valid 3.962756, test 0.242220\n",
      "Metric (Accuracy): train 0.000000, valid 0.310059, test 0.909421\n",
      "Epoch: 67\n",
      "training...\n"
     ]
    },
    {
     "name": "stderr",
     "output_type": "stream",
     "text": [
      "100%|██████████| 26/26 [01:20<00:00,  3.11s/it]\n"
     ]
    },
    {
     "name": "stdout",
     "output_type": "stream",
     "text": [
      "evaluating...\n"
     ]
    },
    {
     "name": "stderr",
     "output_type": "stream",
     "text": [
      "Valid: 100%|██████████| 8/8 [00:25<00:00,  3.24s/it]\n",
      "Test: 100%|██████████| 9/9 [00:31<00:00,  3.51s/it]\n"
     ]
    },
    {
     "name": "stdout",
     "output_type": "stream",
     "text": [
      "Loss (CE): train 0.000000, valid 3.803580, test 0.239363\n",
      "Metric (Accuracy): train 0.000000, valid 0.307617, test 0.918425\n",
      "Epoch: 68\n",
      "training...\n"
     ]
    },
    {
     "name": "stderr",
     "output_type": "stream",
     "text": [
      "100%|██████████| 26/26 [01:27<00:00,  3.35s/it]\n"
     ]
    },
    {
     "name": "stdout",
     "output_type": "stream",
     "text": [
      "evaluating...\n"
     ]
    },
    {
     "name": "stderr",
     "output_type": "stream",
     "text": [
      "Valid: 100%|██████████| 8/8 [00:25<00:00,  3.18s/it]\n",
      "Test: 100%|██████████| 9/9 [00:26<00:00,  2.96s/it]\n"
     ]
    },
    {
     "name": "stdout",
     "output_type": "stream",
     "text": [
      "Loss (CE): train 0.000000, valid 4.000750, test 0.232957\n",
      "Metric (Accuracy): train 0.000000, valid 0.317871, test 0.909237\n",
      "Epoch: 69\n",
      "training...\n"
     ]
    },
    {
     "name": "stderr",
     "output_type": "stream",
     "text": [
      "100%|██████████| 26/26 [01:22<00:00,  3.17s/it]\n"
     ]
    },
    {
     "name": "stdout",
     "output_type": "stream",
     "text": [
      "evaluating...\n"
     ]
    },
    {
     "name": "stderr",
     "output_type": "stream",
     "text": [
      "Valid: 100%|██████████| 8/8 [00:23<00:00,  3.00s/it]\n",
      "Test: 100%|██████████| 9/9 [00:24<00:00,  2.73s/it]"
     ]
    },
    {
     "name": "stdout",
     "output_type": "stream",
     "text": [
      "Loss (CE): train 0.000000, valid 3.673988, test 0.179256\n",
      "Metric (Accuracy): train 0.000000, valid 0.308105, test 0.934381\n"
     ]
    },
    {
     "name": "stderr",
     "output_type": "stream",
     "text": [
      "\n"
     ]
    },
    {
     "ename": "NameError",
     "evalue": "name 'printt' is not defined",
     "output_type": "error",
     "traceback": [
      "\u001b[0;31m---------------------------------------------------------------------------\u001b[0m",
      "\u001b[0;31mNameError\u001b[0m                                 Traceback (most recent call last)",
      "\u001b[0;32m/tmp/6612288.1.gpu.q/ipykernel_17741/451043146.py\u001b[0m in \u001b[0;36m<module>\u001b[0;34m\u001b[0m\n\u001b[0;32m----> 1\u001b[0;31m \u001b[0mmain\u001b[0m\u001b[0;34m(\u001b[0m\u001b[0;34m)\u001b[0m\u001b[0;34m\u001b[0m\u001b[0;34m\u001b[0m\u001b[0m\n\u001b[0m",
      "\u001b[0;32m/tmp/6612288.1.gpu.q/ipykernel_17741/1576614837.py\u001b[0m in \u001b[0;36mmain\u001b[0;34m()\u001b[0m\n\u001b[1;32m     80\u001b[0m         \u001b[0mstop_round\u001b[0m \u001b[0;34m+=\u001b[0m \u001b[0;36m1\u001b[0m\u001b[0;34m\u001b[0m\u001b[0;34m\u001b[0m\u001b[0m\n\u001b[1;32m     81\u001b[0m         \u001b[0;32mif\u001b[0m \u001b[0mstop_round\u001b[0m \u001b[0;34m>\u001b[0m \u001b[0mearly_stop\u001b[0m \u001b[0;32mand\u001b[0m \u001b[0mearly_stop\u001b[0m \u001b[0;34m>=\u001b[0m \u001b[0;36m0\u001b[0m\u001b[0;34m:\u001b[0m\u001b[0;34m\u001b[0m\u001b[0;34m\u001b[0m\u001b[0m\n\u001b[0;32m---> 82\u001b[0;31m             \u001b[0mprintt\u001b[0m\u001b[0;34m(\u001b[0m\u001b[0;34m'early stop'\u001b[0m\u001b[0;34m)\u001b[0m\u001b[0;34m\u001b[0m\u001b[0;34m\u001b[0m\u001b[0m\n\u001b[0m\u001b[1;32m     83\u001b[0m             \u001b[0;32mbreak\u001b[0m\u001b[0;34m\u001b[0m\u001b[0;34m\u001b[0m\u001b[0m\n\u001b[1;32m     84\u001b[0m \u001b[0;34m\u001b[0m\u001b[0m\n",
      "\u001b[0;31mNameError\u001b[0m: name 'printt' is not defined"
     ]
    }
   ],
   "source": [
    "main()"
   ]
  },
  {
   "cell_type": "code",
   "execution_count": 130,
   "metadata": {},
   "outputs": [
    {
     "name": "stderr",
     "output_type": "stream",
     "text": [
      "train: 100%|██████████| 26/26 [01:21<00:00,  3.14s/it]\n"
     ]
    },
    {
     "data": {
      "image/png": "[encoded data removed]",
      "text/plain": [
       "<Figure size 576x432 with 2 Axes>"
      ]
     },
     "metadata": {
      "needs_background": "light"
     },
     "output_type": "display_data"
    },
    {
     "name": "stderr",
     "output_type": "stream",
     "text": [
      "valid:  12%|█▎        | 1/8 [00:03<00:27,  3.99s/it]/apps/anaconda3/lib/python3.9/site-packages/PIL/Image.py:975: UserWarning: Palette images with Transparency expressed in bytes should be converted to RGBA images\n",
      "  warnings.warn(\n",
      "valid: 100%|██████████| 8/8 [00:25<00:00,  3.20s/it]\n"
     ]
    },
    {
     "data": {
      "image/png": "[encoded data removed]",
      "text/plain": [
       "<Figure size 576x432 with 2 Axes>"
      ]
     },
     "metadata": {
      "needs_background": "light"
     },
     "output_type": "display_data"
    },
    {
     "name": "stderr",
     "output_type": "stream",
     "text": [
      "test: 100%|██████████| 9/9 [00:28<00:00,  3.11s/it]\n"
     ]
    },
    {
     "data": {
      "image/png": "[encoded data removed]",
      "text/plain": [
       "<Figure size 576x432 with 2 Axes>"
      ]
     },
     "metadata": {
      "needs_background": "light"
     },
     "output_type": "display_data"
    }
   ],
   "source": [
    "# inference\n",
    "def inference(model, data_loader, args, prefix='Test'):\n",
    "\n",
    "    model.eval()\n",
    "\n",
    "    preds = [] # Logits: [N * 7]\n",
    "    for feat, label in tqdm(data_loader, desc=prefix, total=len(data_loader)):\n",
    "\n",
    "        feat, label = feat.to(device), label.to(device)\n",
    "\n",
    "        with torch.no_grad():\n",
    "            pred = model(feat)\n",
    "\n",
    "        preds.append(pd.concat([\n",
    "            pd.DataFrame(pred.cpu().numpy(), columns=[c for c in data_loader.dataset.classes]),\n",
    "            pd.DataFrame({'label': label.cpu().numpy()}, index=np.arange(len(label)))\n",
    "        ],axis=1))\n",
    "\n",
    "    preds = pd.concat(preds, axis=0)\n",
    "\n",
    "    return preds\n",
    "\n",
    "init_state = f'./model/model.bin'\n",
    "model.load_state_dict(torch.load(init_state, map_location='cpu'))\n",
    "for name in ['train','valid','test']:\n",
    "    preds = inference(model, eval(name+\"_loader\"), None, name)\n",
    "    pred_class = np.argmax(preds.values[:,:-1],axis=1)\n",
    "    label = preds[\"label\"]\n",
    "    arr = pd.DataFrame(\n",
    "        confusion_matrix(label,pred_class, normalize=\"true\"), \n",
    "        index=eval(name+\"_loader\").dataset.classes, columns=eval(name+\"_loader\").dataset.classes\n",
    "    )\n",
    "    plt.figure(figsize=(8,6))\n",
    "    sns.heatmap(arr, annot=True)\n",
    "    plt.show()\n"
   ]
  },
  {
   "cell_type": "code",
   "execution_count": 135,
   "metadata": {},
   "outputs": [
    {
     "name": "stderr",
     "output_type": "stream",
     "text": [
      "Clipping input data to the valid range for imshow with RGB data ([0..1] for floats or [0..255] for integers).\n"
     ]
    },
    {
     "data": {
      "image/png": "[encoded data removed]",
      "text/plain": [
       "<Figure size 1440x1440 with 1 Axes>"
      ]
     },
     "metadata": {
      "needs_background": "light"
     },
     "output_type": "display_data"
    },
    {
     "name": "stdout",
     "output_type": "stream",
     "text": [
      "surprise            disgust             sadness             joy                 neutral             surprise            \n"
     ]
    }
   ],
   "source": [
    "# visualize\n",
    "set_seed()\n",
    "# for 6 images\n",
    "samples = np.random.choice(len(test_loader.dataset.samples), (6))\n",
    "samples = [test_loader.dataset[i] for i in samples]\n",
    "\n",
    "def imshow(img):\n",
    "    img = img / 2 + 0.5     # unnormalize\n",
    "    npimg = img.numpy()\n",
    "    plt.figure(figsize = (20,20))\n",
    "    plt.imshow(np.transpose(npimg, (1, 2, 0)))\n",
    "    plt.show()\n",
    "\n",
    "images = torch.stack([it[0] for it in samples])\n",
    "labels = [it[1] for it in samples]\n",
    "\n",
    "# print images\n",
    "imshow(torchvision.utils.make_grid(images))\n",
    "print(''.join(f'{test_loader.dataset.classes[labels[j]]:20s}' for j in range(6)))"
   ]
  },
  {
   "cell_type": "code",
   "execution_count": null,
   "metadata": {},
   "outputs": [],
   "source": []
  },
  {
   "cell_type": "code",
   "execution_count": null,
   "metadata": {},
   "outputs": [],
   "source": []
  },
  {
   "cell_type": "code",
   "execution_count": null,
   "metadata": {},
   "outputs": [],
   "source": []
  },
  {
   "cell_type": "code",
   "execution_count": 10,
   "metadata": {},
   "outputs": [
    {
     "data": {
      "text/plain": [
       "<AxesSubplot:>"
      ]
     },
     "execution_count": 10,
     "metadata": {},
     "output_type": "execute_result"
    },
    {
     "data": {
      "image/png": "[encoded data removed]",
      "text/plain": [
       "<Figure size 432x288 with 1 Axes>"
      ]
     },
     "metadata": {
      "needs_background": "light"
     },
     "output_type": "display_data"
    }
   ],
   "source": [
    "pd.Series(loss_log).plot(title=\"Train/Running Loss\")"
   ]
  },
  {
   "cell_type": "code",
   "execution_count": null,
   "metadata": {},
   "outputs": [],
   "source": []
  },
  {
   "cell_type": "code",
   "execution_count": null,
   "metadata": {},
   "outputs": [],
   "source": []
  }
 ],
 "metadata": {
  "interpreter": {
   "hash": "31f2aee4e71d21fbe5cf8b01ff0e069b9275f58929596ceb00d14d90e3e16cd6"
  },
  "kernelspec": {
   "display_name": "Python 3 (ipykernel)",
   "language": "python",
   "name": "python3"
  },
  "language_info": {
   "codemirror_mode": {
    "name": "ipython",
    "version": 3
   },
   "file_extension": ".py",
   "mimetype": "text/x-python",
   "name": "python",
   "nbconvert_exporter": "python",
   "pygments_lexer": "ipython3",
   "version": "3.9.7"
  }
 },
 "nbformat": 4,
 "nbformat_minor": 2
}
