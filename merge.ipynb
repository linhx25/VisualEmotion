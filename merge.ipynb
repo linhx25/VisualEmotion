{
 "cells": [
  {
   "cell_type": "code",
   "execution_count": 1,
   "id": "6e19956e",
   "metadata": {},
   "outputs": [],
   "source": [
    "import os\n",
    "import shutil\n",
    "import glob\n",
    "from tqdm import tqdm\n",
    "import random\n",
    "\n",
    "data_dir = \"~/VisualEmotion/data\"\n",
    "tr_split = 0.6\n",
    "va_split = 0.8"
   ]
  },
  {
   "cell_type": "markdown",
   "id": "35904916",
   "metadata": {},
   "source": [
    "## There are two datasets in six class: Emotion-6 and UnbiasedEmo\n",
    "## Love -> Neutral, Anger(Disgust) -> Disgust "
   ]
  },
  {
   "cell_type": "code",
   "execution_count": 82,
   "id": "81b76a3a",
   "metadata": {},
   "outputs": [
    {
     "name": "stdout",
     "output_type": "stream",
     "text": [
      "class: joy, all: 587, train: 352, valid: 117, test: 118\n"
     ]
    },
    {
     "name": "stderr",
     "output_type": "stream",
     "text": [
      "100%|██████████| 587/587 [00:00<00:00, 1031.66it/s]\n"
     ]
    },
    {
     "name": "stdout",
     "output_type": "stream",
     "text": [
      "class: fear, all: 153, train: 91, valid: 31, test: 31\n"
     ]
    },
    {
     "name": "stderr",
     "output_type": "stream",
     "text": [
      "100%|██████████| 153/153 [00:00<00:00, 965.36it/s]\n"
     ]
    },
    {
     "name": "stdout",
     "output_type": "stream",
     "text": [
      "class: sadness, all: 758, train: 454, valid: 152, test: 152\n"
     ]
    },
    {
     "name": "stderr",
     "output_type": "stream",
     "text": [
      "100%|██████████| 758/758 [00:00<00:00, 1010.90it/s]\n"
     ]
    },
    {
     "name": "stdout",
     "output_type": "stream",
     "text": [
      "class: surprise, all: 457, train: 274, valid: 91, test: 92\n"
     ]
    },
    {
     "name": "stderr",
     "output_type": "stream",
     "text": [
      "100%|██████████| 457/457 [00:00<00:00, 992.22it/s] \n"
     ]
    },
    {
     "name": "stdout",
     "output_type": "stream",
     "text": [
      "class: anger, all: 440, train: 264, valid: 88, test: 88\n"
     ]
    },
    {
     "name": "stderr",
     "output_type": "stream",
     "text": [
      "100%|██████████| 440/440 [00:00<00:00, 995.92it/s] \n"
     ]
    },
    {
     "name": "stdout",
     "output_type": "stream",
     "text": [
      "class: love, all: 650, train: 390, valid: 130, test: 130\n"
     ]
    },
    {
     "name": "stderr",
     "output_type": "stream",
     "text": [
      "100%|██████████| 650/650 [00:00<00:00, 1024.80it/s]\n"
     ]
    }
   ],
   "source": [
    "## move UnbiasedEmo\n",
    "\n",
    "for path in glob.glob(\"./data/UnBiasedEmo/images/*\"):\n",
    "    klass = path.split('/')[-1]\n",
    "    imgs = glob.glob(path+'/*/*.jpg')\n",
    "    random.shuffle(imgs)\n",
    "    n = len(imgs)\n",
    "    n_tr, n_va = int(n*tr_split), int(n*va_split)\n",
    "    print(f\"class: {klass}, all: {n}, train: {n_tr}, valid: {n_va-n_tr}, test: {n-n_va}\")\n",
    "    \n",
    "    for i, img in enumerate(tqdm(imgs)):\n",
    "        if i < n_tr:\n",
    "            tgt = img.replace(\"UnBiasedEmo/images\", \"images/train\")\n",
    "        elif i < n_va:\n",
    "            tgt = img.replace(\"UnBiasedEmo/images\", \"images/valid\")\n",
    "        else:\n",
    "            tgt = img.replace(\"UnBiasedEmo/images\", \"images/test\")\n",
    "        if klass == 'love':\n",
    "            tgt = tgt.replace('love', 'neutral')\n",
    "        if not os.path.exists('/'.join(tgt.split('/')[:-1])):\n",
    "            os.makedirs('/'.join(tgt.split('/')[:-1]))\n",
    "        \n",
    "        # print(img, tgt)\n",
    "        if os.path.exists(img):\n",
    "            shutil.move(img, tgt)\n",
    "        "
   ]
  },
  {
   "cell_type": "code",
   "execution_count": 99,
   "id": "c84f12ff",
   "metadata": {},
   "outputs": [
    {
     "name": "stdout",
     "output_type": "stream",
     "text": [
      "class: disgust, all: 0, train: 0, valid: 0, test: 0\n"
     ]
    },
    {
     "name": "stderr",
     "output_type": "stream",
     "text": [
      "0it [00:00, ?it/s]\n"
     ]
    },
    {
     "name": "stdout",
     "output_type": "stream",
     "text": [
      "class: joy, all: 0, train: 0, valid: 0, test: 0\n"
     ]
    },
    {
     "name": "stderr",
     "output_type": "stream",
     "text": [
      "0it [00:00, ?it/s]\n"
     ]
    },
    {
     "name": "stdout",
     "output_type": "stream",
     "text": [
      "class: fear, all: 0, train: 0, valid: 0, test: 0\n"
     ]
    },
    {
     "name": "stderr",
     "output_type": "stream",
     "text": [
      "0it [00:00, ?it/s]\n"
     ]
    },
    {
     "name": "stdout",
     "output_type": "stream",
     "text": [
      "class: sadness, all: 0, train: 0, valid: 0, test: 0\n"
     ]
    },
    {
     "name": "stderr",
     "output_type": "stream",
     "text": [
      "0it [00:00, ?it/s]\n"
     ]
    },
    {
     "name": "stdout",
     "output_type": "stream",
     "text": [
      "class: surprise, all: 0, train: 0, valid: 0, test: 0\n"
     ]
    },
    {
     "name": "stderr",
     "output_type": "stream",
     "text": [
      "0it [00:00, ?it/s]\n"
     ]
    },
    {
     "name": "stdout",
     "output_type": "stream",
     "text": [
      "class: anger, all: 0, train: 0, valid: 0, test: 0\n"
     ]
    },
    {
     "name": "stderr",
     "output_type": "stream",
     "text": [
      "0it [00:00, ?it/s]\n"
     ]
    },
    {
     "name": "stdout",
     "output_type": "stream",
     "text": [
      "class: love, all: 0, train: 0, valid: 0, test: 0\n"
     ]
    },
    {
     "name": "stderr",
     "output_type": "stream",
     "text": [
      "0it [00:00, ?it/s]\n"
     ]
    }
   ],
   "source": [
    "## move Emotion-6\n",
    "\n",
    "if os.path.exists(\"./data/Emotion-6/images/anger/digust\"): # typo in their dataset\n",
    "    shutil.move(\"./data/Emotion-6/images/anger/digust\", \"./data/Emotion-6/images/disgust\") \n",
    "\n",
    "for path in glob.glob(\"./data/Emotion-6/images/*\"):\n",
    "    klass = path.split('/')[-1]\n",
    "    imgs = glob.glob(path+'/**/*.jpg')\n",
    "    random.shuffle(imgs)\n",
    "    n = len(imgs)\n",
    "    n_tr, n_va = int(n*tr_split), int(n*va_split)\n",
    "    print(f\"class: {klass}, all: {n}, train: {n_tr}, valid: {n_va-n_tr}, test: {n-n_va}\")\n",
    "    \n",
    "    for i, img in enumerate(tqdm(imgs)):\n",
    "        if i < n_tr:\n",
    "            tgt = img.replace(\"Emotion-6/images\", \"images/train\")\n",
    "        elif i < n_va:\n",
    "            tgt = img.replace(\"Emotion-6/images\", \"images/valid\")\n",
    "        else:\n",
    "            tgt = img.replace(\"Emotion-6/images\", \"images/test\")\n",
    "\n",
    "        if klass == 'love':\n",
    "            tgt = tgt.replace('love', 'neutral')\n",
    "        if not os.path.exists('/'.join(tgt.split('/')[:-1])):\n",
    "            os.makedirs('/'.join(tgt.split('/')[:-1]))\n",
    "        \n",
    "        # print(img, tgt)\n",
    "        if os.path.exists(img):\n",
    "            shutil.move(img, tgt)\n",
    "        \n",
    "  "
   ]
  },
  {
   "cell_type": "code",
   "execution_count": 2,
   "id": "16ee58e6",
   "metadata": {},
   "outputs": [
    {
     "data": {
      "text/plain": [
       "<AxesSubplot:>"
      ]
     },
     "execution_count": 2,
     "metadata": {},
     "output_type": "execute_result"
    },
    {
     "data": {
      "image/png": "[encoded data removed]",
      "text/plain": [
       "<Figure size 432x288 with 1 Axes>"
      ]
     },
     "metadata": {
      "needs_background": "light"
     },
     "output_type": "display_data"
    }
   ],
   "source": [
    "## counting imbalance class\n",
    "import pandas as pd\n",
    "res = {}\n",
    "for name in [\"train\",\"valid\",\"test\"]:\n",
    "    klass = {}\n",
    "    for path in glob.glob(f\"./data/images/{name}/*\"):\n",
    "        t = path.split('/')[-1]\n",
    "        imgs = glob.glob(path + \"/**/*.jpg\", recursive=True)\n",
    "        klass[t] = len(imgs)\n",
    "    res[name] = klass\n",
    "res = pd.DataFrame(res)\n",
    "res.plot.bar(rot=30)"
   ]
  },
  {
   "cell_type": "code",
   "execution_count": 3,
   "id": "452fae14",
   "metadata": {},
   "outputs": [
    {
     "data": {
      "text/html": [
       "<div>\n",
       "<style scoped>\n",
       "    .dataframe tbody tr th:only-of-type {\n",
       "        vertical-align: middle;\n",
       "    }\n",
       "\n",
       "    .dataframe tbody tr th {\n",
       "        vertical-align: top;\n",
       "    }\n",
       "\n",
       "    .dataframe thead th {\n",
       "        text-align: right;\n",
       "    }\n",
       "</style>\n",
       "<table border=\"1\" class=\"dataframe\">\n",
       "  <thead>\n",
       "    <tr style=\"text-align: right;\">\n",
       "      <th></th>\n",
       "      <th>train</th>\n",
       "      <th>valid</th>\n",
       "      <th>test</th>\n",
       "    </tr>\n",
       "  </thead>\n",
       "  <tbody>\n",
       "    <tr>\n",
       "      <th>disgust</th>\n",
       "      <td>0.014930</td>\n",
       "      <td>0.014925</td>\n",
       "      <td>0.015324</td>\n",
       "    </tr>\n",
       "    <tr>\n",
       "      <th>joy</th>\n",
       "      <td>0.223946</td>\n",
       "      <td>0.223881</td>\n",
       "      <td>0.223730</td>\n",
       "    </tr>\n",
       "    <tr>\n",
       "      <th>fear</th>\n",
       "      <td>0.125732</td>\n",
       "      <td>0.125988</td>\n",
       "      <td>0.125657</td>\n",
       "    </tr>\n",
       "    <tr>\n",
       "      <th>sadness</th>\n",
       "      <td>0.261417</td>\n",
       "      <td>0.261633</td>\n",
       "      <td>0.261384</td>\n",
       "    </tr>\n",
       "    <tr>\n",
       "      <th>neutral</th>\n",
       "      <td>0.120609</td>\n",
       "      <td>0.120720</td>\n",
       "      <td>0.120403</td>\n",
       "    </tr>\n",
       "    <tr>\n",
       "      <th>surprise</th>\n",
       "      <td>0.088993</td>\n",
       "      <td>0.088674</td>\n",
       "      <td>0.089317</td>\n",
       "    </tr>\n",
       "    <tr>\n",
       "      <th>anger</th>\n",
       "      <td>0.164374</td>\n",
       "      <td>0.164179</td>\n",
       "      <td>0.164186</td>\n",
       "    </tr>\n",
       "  </tbody>\n",
       "</table>\n",
       "</div>"
      ],
      "text/plain": [
       "             train     valid      test\n",
       "disgust   0.014930  0.014925  0.015324\n",
       "joy       0.223946  0.223881  0.223730\n",
       "fear      0.125732  0.125988  0.125657\n",
       "sadness   0.261417  0.261633  0.261384\n",
       "neutral   0.120609  0.120720  0.120403\n",
       "surprise  0.088993  0.088674  0.089317\n",
       "anger     0.164374  0.164179  0.164186"
      ]
     },
     "execution_count": 3,
     "metadata": {},
     "output_type": "execute_result"
    }
   ],
   "source": [
    "t = res/res.sum(axis=0)\n",
    "t"
   ]
  },
  {
   "cell_type": "code",
   "execution_count": 5,
   "id": "ac526677",
   "metadata": {},
   "outputs": [
    {
     "name": "stdout",
     "output_type": "stream",
     "text": [
      "\\begin{tabular}{lrrr}\n",
      "\\toprule\n",
      "{} &     train &     valid &      test \\\\\n",
      "\\midrule\n",
      "disgust  &  0.014930 &  0.014925 &  0.015324 \\\\\n",
      "joy      &  0.223946 &  0.223881 &  0.223730 \\\\\n",
      "fear     &  0.125732 &  0.125988 &  0.125657 \\\\\n",
      "sadness  &  0.261417 &  0.261633 &  0.261384 \\\\\n",
      "neutral  &  0.120609 &  0.120720 &  0.120403 \\\\\n",
      "surprise &  0.088993 &  0.088674 &  0.089317 \\\\\n",
      "anger    &  0.164374 &  0.164179 &  0.164186 \\\\\n",
      "\\bottomrule\n",
      "\\end{tabular}\n",
      "\n"
     ]
    }
   ],
   "source": [
    "print(t.to_latex())"
   ]
  },
  {
   "cell_type": "code",
   "execution_count": 141,
   "id": "933480eb",
   "metadata": {},
   "outputs": [],
   "source": []
  },
  {
   "cell_type": "code",
   "execution_count": null,
   "id": "52e83b75",
   "metadata": {},
   "outputs": [],
   "source": []
  },
  {
   "cell_type": "code",
   "execution_count": null,
   "id": "43c7eaae",
   "metadata": {},
   "outputs": [],
   "source": []
  }
 ],
 "metadata": {
  "kernelspec": {
   "display_name": "Python 3 (ipykernel)",
   "language": "python",
   "name": "python3"
  },
  "language_info": {
   "codemirror_mode": {
    "name": "ipython",
    "version": 3
   },
   "file_extension": ".py",
   "mimetype": "text/x-python",
   "name": "python",
   "nbconvert_exporter": "python",
   "pygments_lexer": "ipython3",
   "version": "3.9.7"
  }
 },
 "nbformat": 4,
 "nbformat_minor": 5
}
